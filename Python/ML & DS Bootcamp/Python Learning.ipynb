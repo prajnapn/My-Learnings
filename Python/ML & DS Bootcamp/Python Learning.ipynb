{
 "cells": [
  {
   "cell_type": "code",
   "execution_count": 2,
   "id": "b4f16101",
   "metadata": {},
   "outputs": [
    {
     "name": "stdout",
     "output_type": "stream",
     "text": [
      "Z\n",
      "e\n",
      "r\n",
      "o\n",
      " \n",
      "t\n",
      "o\n",
      " \n",
      "m\n",
      "a\n",
      "s\n",
      "t\n",
      "e\n",
      "r\n",
      "y\n"
     ]
    }
   ],
   "source": [
    "for i in 'Zero to mastery':\n",
    "    print(i)\n",
    "#Here 'Zero to mastery' is an iterable"
   ]
  },
  {
   "cell_type": "code",
   "execution_count": 3,
   "id": "37ca6390",
   "metadata": {},
   "outputs": [
    {
     "name": "stdout",
     "output_type": "stream",
     "text": [
      "1\n",
      "2\n",
      "3\n"
     ]
    }
   ],
   "source": [
    "for item in [1,2,3]:\n",
    "    print(item)"
   ]
  },
  {
   "cell_type": "code",
   "execution_count": 4,
   "id": "e7bc8bae",
   "metadata": {},
   "outputs": [
    {
     "name": "stdout",
     "output_type": "stream",
     "text": [
      "1\n",
      "2\n",
      "3\n"
     ]
    }
   ],
   "source": [
    "for item in {1,2,3}:\n",
    "    print(item)"
   ]
  },
  {
   "cell_type": "code",
   "execution_count": 5,
   "id": "2bef7246",
   "metadata": {},
   "outputs": [
    {
     "name": "stdout",
     "output_type": "stream",
     "text": [
      "1\n",
      "a\n",
      "1\n",
      "b\n",
      "1\n",
      "c\n",
      "2\n",
      "a\n",
      "2\n",
      "b\n",
      "2\n",
      "c\n",
      "3\n",
      "a\n",
      "3\n",
      "b\n",
      "3\n",
      "c\n"
     ]
    }
   ],
   "source": [
    "#nesting for loops\n",
    "for item in [1,2,3]:\n",
    "    for x in ['a','b','c']:\n",
    "        print(item)\n",
    "        print(x)"
   ]
  },
  {
   "cell_type": "code",
   "execution_count": 6,
   "id": "c4825f46",
   "metadata": {},
   "outputs": [
    {
     "name": "stdout",
     "output_type": "stream",
     "text": [
      "1 a\n",
      "1 b\n",
      "1 c\n",
      "2 a\n",
      "2 b\n",
      "2 c\n",
      "3 a\n",
      "3 b\n",
      "3 c\n"
     ]
    }
   ],
   "source": [
    "for item in [1,2,3]:\n",
    "    for x in ['a','b','c']:\n",
    "        print(item,x)"
   ]
  },
  {
   "cell_type": "markdown",
   "id": "af413504",
   "metadata": {},
   "source": [
    "### Iterables  -- Objects/collection that can be iterated over\n",
    "It can be string,list,set,dictionary,tuple"
   ]
  },
  {
   "cell_type": "code",
   "execution_count": 7,
   "id": "56fa93c9",
   "metadata": {},
   "outputs": [],
   "source": [
    "user = {\n",
    "    'name':'prajna',\n",
    "    'location':'bangalore'\n",
    "}"
   ]
  },
  {
   "cell_type": "code",
   "execution_count": 8,
   "id": "b9eab454",
   "metadata": {},
   "outputs": [
    {
     "name": "stdout",
     "output_type": "stream",
     "text": [
      "name\n",
      "location\n"
     ]
    }
   ],
   "source": [
    "for item in user:\n",
    "    print(item)"
   ]
  },
  {
   "cell_type": "code",
   "execution_count": 11,
   "id": "6a9e4843",
   "metadata": {},
   "outputs": [
    {
     "name": "stdout",
     "output_type": "stream",
     "text": [
      "name\n",
      "location\n"
     ]
    }
   ],
   "source": [
    "for item in user.keys():\n",
    "    print(item)"
   ]
  },
  {
   "cell_type": "code",
   "execution_count": 9,
   "id": "7d404a7b",
   "metadata": {},
   "outputs": [
    {
     "name": "stdout",
     "output_type": "stream",
     "text": [
      "prajna\n",
      "bangalore\n"
     ]
    }
   ],
   "source": [
    "for item in user.values():\n",
    "    print(item)"
   ]
  },
  {
   "cell_type": "code",
   "execution_count": 10,
   "id": "ef2d78a8",
   "metadata": {},
   "outputs": [
    {
     "name": "stdout",
     "output_type": "stream",
     "text": [
      "('name', 'prajna')\n",
      "('location', 'bangalore')\n"
     ]
    }
   ],
   "source": [
    "for item in user.items():\n",
    "    print(item)"
   ]
  },
  {
   "cell_type": "code",
   "execution_count": 12,
   "id": "ebacf1cc",
   "metadata": {},
   "outputs": [
    {
     "name": "stdout",
     "output_type": "stream",
     "text": [
      "name prajna\n",
      "location bangalore\n"
     ]
    }
   ],
   "source": [
    "for item in user.items():\n",
    "    key,value =item\n",
    "    print(key,value)"
   ]
  },
  {
   "cell_type": "code",
   "execution_count": 13,
   "id": "ebe1ec3b",
   "metadata": {},
   "outputs": [
    {
     "name": "stdout",
     "output_type": "stream",
     "text": [
      "name\n",
      "prajna\n",
      "location\n",
      "bangalore\n"
     ]
    }
   ],
   "source": [
    "for item in user.items():\n",
    "    for i in item:\n",
    "        print(i)"
   ]
  },
  {
   "cell_type": "code",
   "execution_count": 25,
   "id": "5d774807",
   "metadata": {},
   "outputs": [
    {
     "name": "stdout",
     "output_type": "stream",
     "text": [
      "name prajna\n",
      "location bangalore\n"
     ]
    }
   ],
   "source": [
    "for key,value in user.items():\n",
    "    print(key,value)"
   ]
  },
  {
   "cell_type": "code",
   "execution_count": 26,
   "id": "1ed5b4c9",
   "metadata": {},
   "outputs": [
    {
     "ename": "TypeError",
     "evalue": "'int' object is not iterable",
     "output_type": "error",
     "traceback": [
      "\u001b[1;31m---------------------------------------------------------------------------\u001b[0m",
      "\u001b[1;31mTypeError\u001b[0m                                 Traceback (most recent call last)",
      "\u001b[1;32m~\\AppData\\Local\\Temp/ipykernel_8696/3842441259.py\u001b[0m in \u001b[0;36m<module>\u001b[1;34m\u001b[0m\n\u001b[1;32m----> 1\u001b[1;33m \u001b[1;32mfor\u001b[0m \u001b[0mitem\u001b[0m \u001b[1;32min\u001b[0m \u001b[1;36m50\u001b[0m\u001b[1;33m:\u001b[0m\u001b[1;33m\u001b[0m\u001b[1;33m\u001b[0m\u001b[0m\n\u001b[0m\u001b[0;32m      2\u001b[0m     \u001b[0mprint\u001b[0m\u001b[1;33m(\u001b[0m\u001b[0mitem\u001b[0m\u001b[1;33m)\u001b[0m\u001b[1;33m\u001b[0m\u001b[1;33m\u001b[0m\u001b[0m\n",
      "\u001b[1;31mTypeError\u001b[0m: 'int' object is not iterable"
     ]
    }
   ],
   "source": [
    "for item in 50:\n",
    "    print(item)"
   ]
  },
  {
   "cell_type": "markdown",
   "id": "67140b23",
   "metadata": {},
   "source": [
    "#### int object is not an iterable"
   ]
  },
  {
   "cell_type": "code",
   "execution_count": 29,
   "id": "2f26f8c6",
   "metadata": {},
   "outputs": [
    {
     "name": "stdout",
     "output_type": "stream",
     "text": [
      "49\n"
     ]
    }
   ],
   "source": [
    "### sum items in a list\n",
    "lst =  [1,2,3,4,5,7,8,9,10]\n",
    "sum_lst = 0\n",
    "for item in lst:\n",
    "    sum_lst += item\n",
    "print(sum_lst)"
   ]
  },
  {
   "cell_type": "code",
   "execution_count": 37,
   "id": "d2edd542",
   "metadata": {},
   "outputs": [
    {
     "data": {
      "text/plain": [
       "49"
      ]
     },
     "execution_count": 37,
     "metadata": {},
     "output_type": "execute_result"
    }
   ],
   "source": [
    "import functools\n",
    "functools.reduce(lambda a,b:a+b,lst)"
   ]
  },
  {
   "cell_type": "code",
   "execution_count": 38,
   "id": "2361cc38",
   "metadata": {},
   "outputs": [
    {
     "name": "stdout",
     "output_type": "stream",
     "text": [
      "0\n",
      "1\n",
      "2\n"
     ]
    }
   ],
   "source": [
    "for item in range(3):\n",
    "    print(item)\n",
    "    #range produces dequence of int from start to end"
   ]
  },
  {
   "cell_type": "code",
   "execution_count": 39,
   "id": "ea8a1445",
   "metadata": {},
   "outputs": [
    {
     "name": "stdout",
     "output_type": "stream",
     "text": [
      "0\n",
      "2\n",
      "4\n",
      "6\n"
     ]
    }
   ],
   "source": [
    "for item in range(0,7,2):\n",
    "    print(item)"
   ]
  },
  {
   "cell_type": "code",
   "execution_count": 40,
   "id": "b95a8bc8",
   "metadata": {},
   "outputs": [],
   "source": [
    "for item in range(0,10,-1):\n",
    "    print(item)"
   ]
  },
  {
   "cell_type": "code",
   "execution_count": 41,
   "id": "9cf7fbcf",
   "metadata": {},
   "outputs": [
    {
     "name": "stdout",
     "output_type": "stream",
     "text": [
      "10\n",
      "9\n",
      "8\n",
      "7\n",
      "6\n",
      "5\n",
      "4\n",
      "3\n",
      "2\n",
      "1\n"
     ]
    }
   ],
   "source": [
    "for item in range(10,0,-1):\n",
    "    print(item)"
   ]
  },
  {
   "cell_type": "code",
   "execution_count": 43,
   "id": "1df32fbb",
   "metadata": {},
   "outputs": [
    {
     "name": "stdout",
     "output_type": "stream",
     "text": [
      "[0, 1, 2, 3, 4, 5, 6, 7, 8, 9]\n",
      "[0, 1, 2, 3, 4, 5, 6, 7, 8, 9]\n"
     ]
    }
   ],
   "source": [
    "for i in range(2):\n",
    "    print(list(range(10)))"
   ]
  },
  {
   "cell_type": "markdown",
   "id": "0fbc76ba",
   "metadata": {},
   "source": [
    "### Enumerate -- gives us index counter and item at that index"
   ]
  },
  {
   "cell_type": "code",
   "execution_count": 44,
   "id": "23bd9768",
   "metadata": {
    "scrolled": true
   },
   "outputs": [
    {
     "name": "stdout",
     "output_type": "stream",
     "text": [
      "(0, 'H')\n",
      "(1, 'e')\n",
      "(2, 'l')\n",
      "(3, 'l')\n",
      "(4, 'o')\n",
      "(5, ' ')\n",
      "(6, 'P')\n",
      "(7, 'r')\n",
      "(8, 'a')\n",
      "(9, 'j')\n",
      "(10, 'n')\n",
      "(11, 'a')\n"
     ]
    }
   ],
   "source": [
    "for char in enumerate('Hello Prajna'):\n",
    "    print(char)"
   ]
  },
  {
   "cell_type": "code",
   "execution_count": 45,
   "id": "4a7e3d6b",
   "metadata": {},
   "outputs": [
    {
     "name": "stdout",
     "output_type": "stream",
     "text": [
      "0 H\n",
      "1 e\n",
      "2 l\n",
      "3 l\n",
      "4 o\n"
     ]
    }
   ],
   "source": [
    "for i,char in enumerate('Hello'):\n",
    "    print(i,char)"
   ]
  },
  {
   "cell_type": "code",
   "execution_count": 46,
   "id": "8b671ce3",
   "metadata": {},
   "outputs": [
    {
     "name": "stdout",
     "output_type": "stream",
     "text": [
      "(0, 1)\n",
      "(1, 2)\n",
      "(2, 3)\n"
     ]
    }
   ],
   "source": [
    "for char in enumerate({1,2,3}):\n",
    "    print(char)"
   ]
  },
  {
   "cell_type": "markdown",
   "id": "9fa1aa02",
   "metadata": {},
   "source": [
    "#### enumerate works over a iterable -- tuple,list,string,set,dict"
   ]
  },
  {
   "cell_type": "code",
   "execution_count": 56,
   "id": "41f240b5",
   "metadata": {},
   "outputs": [
    {
     "name": "stdout",
     "output_type": "stream",
     "text": [
      "0 ('name', 'prajna')\n",
      "1 ('location', 'bangalore')\n"
     ]
    }
   ],
   "source": [
    "for i,j in enumerate(user.items()):\n",
    "    print(i,j)"
   ]
  },
  {
   "cell_type": "code",
   "execution_count": 72,
   "id": "cb0c17ef",
   "metadata": {},
   "outputs": [
    {
     "name": "stdout",
     "output_type": "stream",
     "text": [
      "The index for no 50 is 49\n"
     ]
    }
   ],
   "source": [
    "#find index of no 50 in the list\n",
    "for i,val in enumerate(list(range(1,52))):\n",
    "    #print(i,val)\n",
    "    if val == 50:\n",
    "        print(f\"The index for no {val} is {i}\")\n",
    "    "
   ]
  },
  {
   "cell_type": "code",
   "execution_count": 4,
   "id": "e1be5bb2",
   "metadata": {},
   "outputs": [
    {
     "name": "stdout",
     "output_type": "stream",
     "text": [
      "0\n"
     ]
    }
   ],
   "source": [
    "i = 0\n",
    "while i < 50:\n",
    "    print(i)\n",
    "    break"
   ]
  },
  {
   "cell_type": "code",
   "execution_count": 5,
   "id": "e00241f3",
   "metadata": {},
   "outputs": [
    {
     "name": "stdout",
     "output_type": "stream",
     "text": [
      "0\n",
      "1\n",
      "2\n",
      "3\n",
      "4\n",
      "5\n",
      "6\n",
      "7\n",
      "8\n",
      "9\n",
      "10\n",
      "11\n",
      "12\n",
      "13\n",
      "14\n",
      "15\n",
      "16\n",
      "17\n",
      "18\n",
      "19\n",
      "20\n",
      "21\n",
      "22\n",
      "23\n",
      "24\n",
      "25\n",
      "26\n",
      "27\n",
      "28\n",
      "29\n",
      "30\n",
      "31\n",
      "32\n",
      "33\n",
      "34\n",
      "35\n",
      "36\n",
      "37\n",
      "38\n",
      "39\n",
      "40\n",
      "41\n",
      "42\n",
      "43\n",
      "44\n",
      "45\n",
      "46\n",
      "47\n",
      "48\n",
      "49\n",
      "Done with all work\n"
     ]
    }
   ],
   "source": [
    "i = 0\n",
    "while i < 50:\n",
    "    print(i)\n",
    "    i+=1\n",
    "else:\n",
    "    print(\"Done with all work\")"
   ]
  },
  {
   "cell_type": "code",
   "execution_count": 6,
   "id": "eb74b126",
   "metadata": {},
   "outputs": [
    {
     "name": "stdout",
     "output_type": "stream",
     "text": [
      "0\n",
      "1\n",
      "2\n",
      "3\n",
      "4\n",
      "5\n",
      "6\n",
      "7\n",
      "8\n",
      "9\n",
      "10\n",
      "11\n",
      "12\n",
      "13\n",
      "14\n",
      "15\n",
      "16\n",
      "17\n",
      "18\n",
      "19\n",
      "20\n",
      "21\n",
      "22\n",
      "23\n",
      "24\n",
      "25\n",
      "26\n",
      "27\n",
      "28\n",
      "29\n",
      "30\n",
      "31\n",
      "32\n",
      "33\n",
      "34\n",
      "35\n",
      "36\n",
      "37\n",
      "38\n",
      "39\n",
      "40\n",
      "41\n",
      "42\n",
      "43\n",
      "44\n",
      "45\n",
      "46\n",
      "47\n",
      "48\n",
      "49\n",
      "Done with all work\n"
     ]
    }
   ],
   "source": [
    "i = 0\n",
    "while i < 50:\n",
    "    print(i)\n",
    "    i+=1\n",
    "print(\"Done with all work\")"
   ]
  },
  {
   "cell_type": "code",
   "execution_count": 9,
   "id": "9a79d975",
   "metadata": {},
   "outputs": [
    {
     "name": "stdout",
     "output_type": "stream",
     "text": [
      "1\n",
      "2\n",
      "3\n"
     ]
    }
   ],
   "source": [
    "my_list = [1,2,3]\n",
    "i = 0\n",
    "while i < len(my_list):\n",
    "    print(my_list[i])\n",
    "    i += 1"
   ]
  },
  {
   "cell_type": "markdown",
   "id": "ba505e6d",
   "metadata": {},
   "source": [
    "while true:         \n",
    "    print(something)                     \n",
    "    break"
   ]
  },
  {
   "cell_type": "code",
   "execution_count": 13,
   "id": "10040953",
   "metadata": {},
   "outputs": [
    {
     "name": "stdout",
     "output_type": "stream",
     "text": [
      "Say Something : Hi!\n",
      "Say Something : Bye\n"
     ]
    }
   ],
   "source": [
    "while True :\n",
    "    response = input(\"Say Something : \")\n",
    "    if response == 'Bye':\n",
    "        break"
   ]
  },
  {
   "cell_type": "markdown",
   "id": "28fc0766",
   "metadata": {},
   "source": [
    "### Break,Continue and Pass"
   ]
  },
  {
   "cell_type": "markdown",
   "id": "fc222868",
   "metadata": {},
   "source": [
    "break -- break statement breaks from the enclosing loop and goes for the next block or statements\n",
    "\n",
    "continue -- continue statement skip all the remaining statements in the loop and move controls back to the top of the loop.\n",
    "\n",
    "pass -- pass statement when you create a method that you don't want to implement, yet."
   ]
  },
  {
   "cell_type": "markdown",
   "id": "395e3c27",
   "metadata": {},
   "source": [
    "#### If we are still thinking what to write on code we can use pass"
   ]
  },
  {
   "cell_type": "code",
   "execution_count": 37,
   "id": "8fcb05b3",
   "metadata": {},
   "outputs": [],
   "source": [
    "my_list = [1,2,3]"
   ]
  },
  {
   "cell_type": "code",
   "execution_count": 38,
   "id": "5bd21467",
   "metadata": {},
   "outputs": [
    {
     "name": "stdout",
     "output_type": "stream",
     "text": [
      "2\n",
      "3\n"
     ]
    },
    {
     "ename": "IndexError",
     "evalue": "list index out of range",
     "output_type": "error",
     "traceback": [
      "\u001b[1;31m---------------------------------------------------------------------------\u001b[0m",
      "\u001b[1;31mIndexError\u001b[0m                                Traceback (most recent call last)",
      "\u001b[1;32m~\\AppData\\Local\\Temp/ipykernel_6268/1881380890.py\u001b[0m in \u001b[0;36m<module>\u001b[1;34m\u001b[0m\n\u001b[0;32m      2\u001b[0m \u001b[1;32mwhile\u001b[0m \u001b[0mi\u001b[0m \u001b[1;33m<\u001b[0m \u001b[0mlen\u001b[0m\u001b[1;33m(\u001b[0m\u001b[0mmy_list\u001b[0m\u001b[1;33m)\u001b[0m\u001b[1;33m:\u001b[0m\u001b[1;33m\u001b[0m\u001b[1;33m\u001b[0m\u001b[0m\n\u001b[0;32m      3\u001b[0m     \u001b[0mi\u001b[0m \u001b[1;33m+=\u001b[0m \u001b[1;36m1\u001b[0m\u001b[1;33m\u001b[0m\u001b[1;33m\u001b[0m\u001b[0m\n\u001b[1;32m----> 4\u001b[1;33m     \u001b[0mprint\u001b[0m\u001b[1;33m(\u001b[0m\u001b[0mmy_list\u001b[0m\u001b[1;33m[\u001b[0m\u001b[0mi\u001b[0m\u001b[1;33m]\u001b[0m\u001b[1;33m)\u001b[0m\u001b[1;33m\u001b[0m\u001b[1;33m\u001b[0m\u001b[0m\n\u001b[0m\u001b[0;32m      5\u001b[0m     \u001b[1;32mcontinue\u001b[0m\u001b[1;33m\u001b[0m\u001b[1;33m\u001b[0m\u001b[0m\n\u001b[0;32m      6\u001b[0m     \u001b[0mprint\u001b[0m\u001b[1;33m(\u001b[0m\u001b[0mmy_list\u001b[0m\u001b[1;33m[\u001b[0m\u001b[0mi\u001b[0m\u001b[1;33m]\u001b[0m\u001b[1;33m)\u001b[0m\u001b[1;33m\u001b[0m\u001b[1;33m\u001b[0m\u001b[0m\n",
      "\u001b[1;31mIndexError\u001b[0m: list index out of range"
     ]
    }
   ],
   "source": [
    "\n",
    "i = 0\n",
    "while i < len(my_list):\n",
    "    i += 1\n",
    "    print(my_list[i])\n",
    "    continue\n",
    "    print(my_list[i])"
   ]
  },
  {
   "cell_type": "code",
   "execution_count": 49,
   "id": "cbcd9277",
   "metadata": {},
   "outputs": [
    {
     "name": "stdout",
     "output_type": "stream",
     "text": [
      "exception\n",
      "pass executed\n",
      "e\n",
      "exception\n",
      "exception\n",
      "exception\n"
     ]
    }
   ],
   "source": [
    "for i in 'hello':\n",
    "    if(i == 'e'):\n",
    "        print('pass executed')\n",
    "        pass\n",
    "        print(i)\n",
    "    else:\n",
    "        print(\"exception\")\n",
    "##here pass runs the next statemnts after it to"
   ]
  },
  {
   "cell_type": "code",
   "execution_count": 45,
   "id": "4a227e99",
   "metadata": {},
   "outputs": [
    {
     "name": "stdout",
     "output_type": "stream",
     "text": [
      "exception\n",
      "continue executed\n",
      "exception\n",
      "exception\n",
      "exception\n"
     ]
    }
   ],
   "source": [
    "for i in 'hello':\n",
    "    if(i == 'e'):\n",
    "        print('continue executed')\n",
    "        continue\n",
    "        print(i)\n",
    "    else :\n",
    "        print(\"exception\")\n",
    "        \n",
    "### see here continue completes the for loop skipping the next statements"
   ]
  },
  {
   "cell_type": "code",
   "execution_count": 48,
   "id": "93da7498",
   "metadata": {},
   "outputs": [
    {
     "name": "stdout",
     "output_type": "stream",
     "text": [
      "exception\n",
      "break executed\n"
     ]
    }
   ],
   "source": [
    "for i in 'hello':\n",
    "    if(i == 'e'):\n",
    "        print('break executed')\n",
    "        break\n",
    "        print(i)\n",
    "    else :\n",
    "        print(\"exception\")\n",
    "        \n",
    "## here after break entire for loop is broken"
   ]
  },
  {
   "cell_type": "code",
   "execution_count": 50,
   "id": "e300e8fd",
   "metadata": {},
   "outputs": [],
   "source": [
    "picture = [\n",
    "    [0,0,0,1,0,0,0],\n",
    "    [0,0,1,1,1,0,0],\n",
    "    [0,1,1,1,1,1,0],\n",
    "    [1,1,1,1,1,1,1],\n",
    "    [0,0,0,1,0,0,0],\n",
    "    [0,0,0,1,0,0,0]]\n",
    "\n"
   ]
  },
  {
   "cell_type": "code",
   "execution_count": 70,
   "id": "79fd9a41",
   "metadata": {},
   "outputs": [
    {
     "name": "stdout",
     "output_type": "stream",
     "text": [
      "   *   \n",
      "  ***  \n",
      " ***** \n",
      "*******\n",
      "   *   \n",
      "   *   \n"
     ]
    }
   ],
   "source": [
    "for img in picture:\n",
    "    for pixel in img :\n",
    "        if (pixel == 1):\n",
    "            print(\"*\",end = '')\n",
    "        else:\n",
    "            print(\" \",end = '')\n",
    "    print('')"
   ]
  },
  {
   "cell_type": "code",
   "execution_count": 76,
   "id": "ae176318",
   "metadata": {},
   "outputs": [
    {
     "name": "stdout",
     "output_type": "stream",
     "text": [
      "I am Amazing,good job "
     ]
    }
   ],
   "source": [
    "print(\"I am Amazing\",end = ',')\n",
    "print(\"good job\",end = ' ')\n",
    "#By default after a print statement the end is a new line, we can change it as per our convnience"
   ]
  },
  {
   "cell_type": "code",
   "execution_count": null,
   "id": "5d310b16",
   "metadata": {},
   "outputs": [],
   "source": []
  },
  {
   "cell_type": "code",
   "execution_count": null,
   "id": "8ab96033",
   "metadata": {},
   "outputs": [],
   "source": []
  }
 ],
 "metadata": {
  "kernelspec": {
   "display_name": "Python 3 (ipykernel)",
   "language": "python",
   "name": "python3"
  },
  "language_info": {
   "codemirror_mode": {
    "name": "ipython",
    "version": 3
   },
   "file_extension": ".py",
   "mimetype": "text/x-python",
   "name": "python",
   "nbconvert_exporter": "python",
   "pygments_lexer": "ipython3",
   "version": "3.9.7"
  }
 },
 "nbformat": 4,
 "nbformat_minor": 5
}
