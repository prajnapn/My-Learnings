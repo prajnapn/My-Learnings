{
 "cells": [
  {
   "cell_type": "code",
   "execution_count": 2,
   "id": "52d39ed2",
   "metadata": {},
   "outputs": [
    {
     "name": "stdout",
     "output_type": "stream",
     "text": [
      "Z\n",
      "e\n",
      "r\n",
      "o\n",
      " \n",
      "t\n",
      "o\n",
      " \n",
      "m\n",
      "a\n",
      "s\n",
      "t\n",
      "e\n",
      "r\n",
      "y\n"
     ]
    }
   ],
   "source": [
    "for i in 'Zero to mastery':\n",
    "    print(i)\n",
    "#Here 'Zero to mastery' is an iterable"
   ]
  },
  {
   "cell_type": "code",
   "execution_count": 3,
   "id": "084493f2",
   "metadata": {},
   "outputs": [
    {
     "name": "stdout",
     "output_type": "stream",
     "text": [
      "1\n",
      "2\n",
      "3\n"
     ]
    }
   ],
   "source": [
    "for item in [1,2,3]:\n",
    "    print(item)"
   ]
  },
  {
   "cell_type": "code",
   "execution_count": 4,
   "id": "15d7dbd0",
   "metadata": {},
   "outputs": [
    {
     "name": "stdout",
     "output_type": "stream",
     "text": [
      "1\n",
      "2\n",
      "3\n"
     ]
    }
   ],
   "source": [
    "for item in {1,2,3}:\n",
    "    print(item)"
   ]
  },
  {
   "cell_type": "code",
   "execution_count": 5,
   "id": "c6f7d0ca",
   "metadata": {},
   "outputs": [
    {
     "name": "stdout",
     "output_type": "stream",
     "text": [
      "1\n",
      "a\n",
      "1\n",
      "b\n",
      "1\n",
      "c\n",
      "2\n",
      "a\n",
      "2\n",
      "b\n",
      "2\n",
      "c\n",
      "3\n",
      "a\n",
      "3\n",
      "b\n",
      "3\n",
      "c\n"
     ]
    }
   ],
   "source": [
    "#nesting for loops\n",
    "for item in [1,2,3]:\n",
    "    for x in ['a','b','c']:\n",
    "        print(item)\n",
    "        print(x)"
   ]
  },
  {
   "cell_type": "code",
   "execution_count": 6,
   "id": "c731701a",
   "metadata": {},
   "outputs": [
    {
     "name": "stdout",
     "output_type": "stream",
     "text": [
      "1 a\n",
      "1 b\n",
      "1 c\n",
      "2 a\n",
      "2 b\n",
      "2 c\n",
      "3 a\n",
      "3 b\n",
      "3 c\n"
     ]
    }
   ],
   "source": [
    "for item in [1,2,3]:\n",
    "    for x in ['a','b','c']:\n",
    "        print(item,x)"
   ]
  },
  {
   "cell_type": "markdown",
   "id": "18303cf7",
   "metadata": {},
   "source": [
    "### Iterables  -- Objects/collection that can be iterated over\n",
    "It can be string,list,set,dictionary,tuple"
   ]
  },
  {
   "cell_type": "code",
   "execution_count": 7,
   "id": "a8dcaad7",
   "metadata": {},
   "outputs": [],
   "source": [
    "user = {\n",
    "    'name':'prajna',\n",
    "    'location':'bangalore'\n",
    "}"
   ]
  },
  {
   "cell_type": "code",
   "execution_count": 8,
   "id": "48592fde",
   "metadata": {},
   "outputs": [
    {
     "name": "stdout",
     "output_type": "stream",
     "text": [
      "name\n",
      "location\n"
     ]
    }
   ],
   "source": [
    "for item in user:\n",
    "    print(item)"
   ]
  },
  {
   "cell_type": "code",
   "execution_count": 11,
   "id": "0047659d",
   "metadata": {},
   "outputs": [
    {
     "name": "stdout",
     "output_type": "stream",
     "text": [
      "name\n",
      "location\n"
     ]
    }
   ],
   "source": [
    "for item in user.keys():\n",
    "    print(item)"
   ]
  },
  {
   "cell_type": "code",
   "execution_count": 9,
   "id": "99e59d86",
   "metadata": {},
   "outputs": [
    {
     "name": "stdout",
     "output_type": "stream",
     "text": [
      "prajna\n",
      "bangalore\n"
     ]
    }
   ],
   "source": [
    "for item in user.values():\n",
    "    print(item)"
   ]
  },
  {
   "cell_type": "code",
   "execution_count": 10,
   "id": "215853f9",
   "metadata": {},
   "outputs": [
    {
     "name": "stdout",
     "output_type": "stream",
     "text": [
      "('name', 'prajna')\n",
      "('location', 'bangalore')\n"
     ]
    }
   ],
   "source": [
    "for item in user.items():\n",
    "    print(item)"
   ]
  },
  {
   "cell_type": "code",
   "execution_count": 12,
   "id": "7e63183d",
   "metadata": {},
   "outputs": [
    {
     "name": "stdout",
     "output_type": "stream",
     "text": [
      "name prajna\n",
      "location bangalore\n"
     ]
    }
   ],
   "source": [
    "for item in user.items():\n",
    "    key,value =item\n",
    "    print(key,value)"
   ]
  },
  {
   "cell_type": "code",
   "execution_count": 13,
   "id": "2853f11a",
   "metadata": {},
   "outputs": [
    {
     "name": "stdout",
     "output_type": "stream",
     "text": [
      "name\n",
      "prajna\n",
      "location\n",
      "bangalore\n"
     ]
    }
   ],
   "source": [
    "for item in user.items():\n",
    "    for i in item:\n",
    "        print(i)"
   ]
  },
  {
   "cell_type": "code",
   "execution_count": 25,
   "id": "2b84f4d5",
   "metadata": {},
   "outputs": [
    {
     "name": "stdout",
     "output_type": "stream",
     "text": [
      "name prajna\n",
      "location bangalore\n"
     ]
    }
   ],
   "source": [
    "for key,value in user.items():\n",
    "    print(key,value)"
   ]
  },
  {
   "cell_type": "code",
   "execution_count": 26,
   "id": "a64b67b2",
   "metadata": {},
   "outputs": [
    {
     "ename": "TypeError",
     "evalue": "'int' object is not iterable",
     "output_type": "error",
     "traceback": [
      "\u001b[1;31m---------------------------------------------------------------------------\u001b[0m",
      "\u001b[1;31mTypeError\u001b[0m                                 Traceback (most recent call last)",
      "\u001b[1;32m~\\AppData\\Local\\Temp/ipykernel_8696/3842441259.py\u001b[0m in \u001b[0;36m<module>\u001b[1;34m\u001b[0m\n\u001b[1;32m----> 1\u001b[1;33m \u001b[1;32mfor\u001b[0m \u001b[0mitem\u001b[0m \u001b[1;32min\u001b[0m \u001b[1;36m50\u001b[0m\u001b[1;33m:\u001b[0m\u001b[1;33m\u001b[0m\u001b[1;33m\u001b[0m\u001b[0m\n\u001b[0m\u001b[0;32m      2\u001b[0m     \u001b[0mprint\u001b[0m\u001b[1;33m(\u001b[0m\u001b[0mitem\u001b[0m\u001b[1;33m)\u001b[0m\u001b[1;33m\u001b[0m\u001b[1;33m\u001b[0m\u001b[0m\n",
      "\u001b[1;31mTypeError\u001b[0m: 'int' object is not iterable"
     ]
    }
   ],
   "source": [
    "for item in 50:\n",
    "    print(item)"
   ]
  },
  {
   "cell_type": "markdown",
   "id": "98bd8d8e",
   "metadata": {},
   "source": [
    "#### int object is not an iterable"
   ]
  },
  {
   "cell_type": "code",
   "execution_count": 29,
   "id": "70ab31a2",
   "metadata": {},
   "outputs": [
    {
     "name": "stdout",
     "output_type": "stream",
     "text": [
      "49\n"
     ]
    }
   ],
   "source": [
    "### sum items in a list\n",
    "lst =  [1,2,3,4,5,7,8,9,10]\n",
    "sum_lst = 0\n",
    "for item in lst:\n",
    "    sum_lst += item\n",
    "print(sum_lst)"
   ]
  },
  {
   "cell_type": "code",
   "execution_count": 37,
   "id": "70f205cb",
   "metadata": {},
   "outputs": [
    {
     "data": {
      "text/plain": [
       "49"
      ]
     },
     "execution_count": 37,
     "metadata": {},
     "output_type": "execute_result"
    }
   ],
   "source": [
    "import functools\n",
    "functools.reduce(lambda a,b:a+b,lst)"
   ]
  },
  {
   "cell_type": "code",
   "execution_count": 38,
   "id": "0203baf2",
   "metadata": {},
   "outputs": [
    {
     "name": "stdout",
     "output_type": "stream",
     "text": [
      "0\n",
      "1\n",
      "2\n"
     ]
    }
   ],
   "source": [
    "for item in range(3):\n",
    "    print(item)\n",
    "    #range produces dequence of int from start to end"
   ]
  },
  {
   "cell_type": "code",
   "execution_count": 39,
   "id": "2b632ed4",
   "metadata": {},
   "outputs": [
    {
     "name": "stdout",
     "output_type": "stream",
     "text": [
      "0\n",
      "2\n",
      "4\n",
      "6\n"
     ]
    }
   ],
   "source": [
    "for item in range(0,7,2):\n",
    "    print(item)"
   ]
  },
  {
   "cell_type": "code",
   "execution_count": 40,
   "id": "1b24d4c7",
   "metadata": {},
   "outputs": [],
   "source": [
    "for item in range(0,10,-1):\n",
    "    print(item)"
   ]
  },
  {
   "cell_type": "code",
   "execution_count": 41,
   "id": "8a291281",
   "metadata": {},
   "outputs": [
    {
     "name": "stdout",
     "output_type": "stream",
     "text": [
      "10\n",
      "9\n",
      "8\n",
      "7\n",
      "6\n",
      "5\n",
      "4\n",
      "3\n",
      "2\n",
      "1\n"
     ]
    }
   ],
   "source": [
    "for item in range(10,0,-1):\n",
    "    print(item)"
   ]
  },
  {
   "cell_type": "code",
   "execution_count": 43,
   "id": "3e5ea2af",
   "metadata": {},
   "outputs": [
    {
     "name": "stdout",
     "output_type": "stream",
     "text": [
      "[0, 1, 2, 3, 4, 5, 6, 7, 8, 9]\n",
      "[0, 1, 2, 3, 4, 5, 6, 7, 8, 9]\n"
     ]
    }
   ],
   "source": [
    "for i in range(2):\n",
    "    print(list(range(10)))"
   ]
  },
  {
   "cell_type": "markdown",
   "id": "8f074611",
   "metadata": {},
   "source": [
    "### Enumerate -- gives us index counter and item at that index"
   ]
  },
  {
   "cell_type": "code",
   "execution_count": 44,
   "id": "e67d104e",
   "metadata": {
    "scrolled": true
   },
   "outputs": [
    {
     "name": "stdout",
     "output_type": "stream",
     "text": [
      "(0, 'H')\n",
      "(1, 'e')\n",
      "(2, 'l')\n",
      "(3, 'l')\n",
      "(4, 'o')\n",
      "(5, ' ')\n",
      "(6, 'P')\n",
      "(7, 'r')\n",
      "(8, 'a')\n",
      "(9, 'j')\n",
      "(10, 'n')\n",
      "(11, 'a')\n"
     ]
    }
   ],
   "source": [
    "for char in enumerate('Hello Prajna'):\n",
    "    print(char)"
   ]
  },
  {
   "cell_type": "code",
   "execution_count": 45,
   "id": "ec5aca7e",
   "metadata": {},
   "outputs": [
    {
     "name": "stdout",
     "output_type": "stream",
     "text": [
      "0 H\n",
      "1 e\n",
      "2 l\n",
      "3 l\n",
      "4 o\n"
     ]
    }
   ],
   "source": [
    "for i,char in enumerate('Hello'):\n",
    "    print(i,char)"
   ]
  },
  {
   "cell_type": "code",
   "execution_count": 46,
   "id": "3ab4c875",
   "metadata": {},
   "outputs": [
    {
     "name": "stdout",
     "output_type": "stream",
     "text": [
      "(0, 1)\n",
      "(1, 2)\n",
      "(2, 3)\n"
     ]
    }
   ],
   "source": [
    "for char in enumerate({1,2,3}):\n",
    "    print(char)"
   ]
  },
  {
   "cell_type": "markdown",
   "id": "7cf735f1",
   "metadata": {},
   "source": [
    "#### enumerate works over a iterable -- tuple,list,string,set,dict"
   ]
  },
  {
   "cell_type": "code",
   "execution_count": 56,
   "id": "078ad3aa",
   "metadata": {},
   "outputs": [
    {
     "name": "stdout",
     "output_type": "stream",
     "text": [
      "0 ('name', 'prajna')\n",
      "1 ('location', 'bangalore')\n"
     ]
    }
   ],
   "source": [
    "for i,j in enumerate(user.items()):\n",
    "    print(i,j)"
   ]
  },
  {
   "cell_type": "code",
   "execution_count": 71,
   "id": "061ee697",
   "metadata": {},
   "outputs": [
    {
     "name": "stdout",
     "output_type": "stream",
     "text": [
      "The index for no 50 is 49\n"
     ]
    }
   ],
   "source": [
    "#find index of no 50 in the list\n",
    "for i,val in enumerate(list(range(1,52))):\n",
    "    #print(i,val)\n",
    "    if val == 50:\n",
    "        print(f\"The index for no {val} is {i}\")\n",
    "    "
   ]
  }
 ],
 "metadata": {
  "kernelspec": {
   "display_name": "Python 3 (ipykernel)",
   "language": "python",
   "name": "python3"
  },
  "language_info": {
   "codemirror_mode": {
    "name": "ipython",
    "version": 3
   },
   "file_extension": ".py",
   "mimetype": "text/x-python",
   "name": "python",
   "nbconvert_exporter": "python",
   "pygments_lexer": "ipython3",
   "version": "3.9.7"
  }
 },
 "nbformat": 4,
 "nbformat_minor": 5
}
